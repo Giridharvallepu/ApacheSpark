{
 "cells": [
  {
   "cell_type": "markdown",
   "metadata": {},
   "source": [
    "## Understaning scaling of linear algebra operations on Apache Spark using Apache SystemML\n",
    "\n",
    "In this we will understand how to scale linear algebra operations from a single machine to multiple machines, memory and CPU cores using Apache SystemML. Therefore we want you to understand how to migrate from a numpy program to a SystemML DML program. We are sticking to Keras only, but once we go beyond that point you'll be happy to see what's going on behind the scenes. As usual, we run some import statements:"
   ]
  },
  {
   "cell_type": "code",
   "execution_count": 1,
   "metadata": {},
   "outputs": [
    {
     "name": "stdout",
     "output_type": "stream",
     "text": [
      "Requirement already up-to-date: systemml in /gpfs/global_fs01/sym_shared/YPProdSpark/user/se28-ff5f952d83926e-9db968b3acc0/.local/lib/python3.5/site-packages (1.2.0)\n",
      "Requirement not upgraded as not directly required: numpy>=1.8.2 in /usr/local/src/conda3_runtime.v49/home/envs/DSX-Python35-Spark/lib/python3.5/site-packages (from systemml) (1.13.3)\n",
      "Requirement not upgraded as not directly required: Pillow>=2.0.0 in /usr/local/src/conda3_runtime.v49/home/envs/DSX-Python35-Spark/lib/python3.5/site-packages (from systemml) (4.2.1)\n",
      "Requirement not upgraded as not directly required: scipy>=0.15.1 in /usr/local/src/conda3_runtime.v49/home/envs/DSX-Python35-Spark/lib/python3.5/site-packages (from systemml) (1.0.0)\n",
      "Requirement not upgraded as not directly required: scikit-learn in /usr/local/src/conda3_runtime.v49/home/envs/DSX-Python35-Spark/lib/python3.5/site-packages (from systemml) (0.19.1)\n",
      "Requirement not upgraded as not directly required: pandas in /usr/local/src/conda3_runtime.v49/home/envs/DSX-Python35-Spark/lib/python3.5/site-packages (from systemml) (0.21.0)\n",
      "Requirement not upgraded as not directly required: olefile in /usr/local/src/conda3_runtime.v49/home/envs/DSX-Python35-Spark/lib/python3.5/site-packages (from Pillow>=2.0.0->systemml) (0.44)\n",
      "Requirement not upgraded as not directly required: python-dateutil>=2 in /usr/local/src/conda3_runtime.v49/home/envs/DSX-Python35-Spark/lib/python3.5/site-packages (from pandas->systemml) (2.6.1)\n",
      "Requirement not upgraded as not directly required: pytz>=2011k in /usr/local/src/conda3_runtime.v49/home/envs/DSX-Python35-Spark/lib/python3.5/site-packages (from pandas->systemml) (2018.4)\n",
      "Requirement not upgraded as not directly required: six>=1.5 in /usr/local/src/conda3_runtime.v49/home/envs/DSX-Python35-Spark/lib/python3.5/site-packages (from python-dateutil>=2->pandas->systemml) (1.11.0)\n",
      "\u001b[31mnotebook 5.0.0 requires nbconvert, which is not installed.\u001b[0m\n",
      "\u001b[31mipywidgets 6.0.0 requires widgetsnbextension~=2.0.0, which is not installed.\u001b[0m\n",
      "\u001b[31mtensorflow 1.3.0 requires tensorflow-tensorboard<0.2.0,>=0.1.0, which is not installed.\u001b[0m\n"
     ]
    }
   ],
   "source": [
    "!pip install --upgrade systemml"
   ]
  },
  {
   "cell_type": "code",
   "execution_count": 2,
   "metadata": {},
   "outputs": [],
   "source": [
    "from systemml import MLContext, dml\n",
    "import numpy as np\n",
    "import time"
   ]
  },
  {
   "cell_type": "markdown",
   "metadata": {},
   "source": [
    "Then we create an MLContext to interface with Apache SystemML. Note that we pass a SparkSession object as parameter so SystemML now knows how to talk to the Apache Spark cluster"
   ]
  },
  {
   "cell_type": "code",
   "execution_count": 3,
   "metadata": {},
   "outputs": [],
   "source": [
    "ml = MLContext(spark)"
   ]
  },
  {
   "cell_type": "markdown",
   "metadata": {},
   "source": [
    "Now we create some large random matrices to have numpy and SystemML crunch on it"
   ]
  },
  {
   "cell_type": "code",
   "execution_count": 4,
   "metadata": {},
   "outputs": [],
   "source": [
    "u = np.random.rand(1000,10000)\n",
    "s = np.random.rand(10000,1000)\n",
    "w = np.random.rand(1000,1000)"
   ]
  },
  {
   "cell_type": "markdown",
   "metadata": {},
   "source": [
    "Now we implement a short one-liner to define a very simple linear algebra operation\n",
    "\n",
    "In case you are not familiar with matrix-matrix multiplication: https://en.wikipedia.org/wiki/Matrix_multiplication\n",
    "\n",
    "sum(U' * (W . (U * S)))\n",
    "\n",
    "\n",
    "| Legend        |            |   \n",
    "| ------------- |-------------| \n",
    "| '      | transpose of a matrix | \n",
    "| * | matrix-matrix multiplication      |  \n",
    "| . | scalar multiplication      |   \n",
    "\n"
   ]
  },
  {
   "cell_type": "code",
   "execution_count": 5,
   "metadata": {},
   "outputs": [
    {
     "name": "stdout",
     "output_type": "stream",
     "text": [
      "0.5941519737243652\n"
     ]
    }
   ],
   "source": [
    "start = time.time()\n",
    "res = np.sum(u.T.dot(w * u.dot(s)))\n",
    "print (time.time()-start)"
   ]
  },
  {
   "cell_type": "markdown",
   "metadata": {},
   "source": [
    "As you can see this executes perfectly fine. Note that this is even a very efficient execution because numpy uses a C/C++ backend which is known for it's performance. But what happens if U, S or W get such big that the available main memory cannot cope with it? Let's give it a try:"
   ]
  },
  {
   "cell_type": "code",
   "execution_count": 6,
   "metadata": {},
   "outputs": [],
   "source": [
    "u = np.random.rand(10000,100000)\n",
    "s = np.random.rand(100000,10000)\n",
    "w = np.random.rand(10000,10000)"
   ]
  },
  {
   "cell_type": "markdown",
   "metadata": {},
   "source": [
    "After a short while you should see a memory error. This is because the operating system process was not able to allocate enough memory for storing the numpy array on the heap. Now it's time to re-implement the very same operations as DML in SystemML, and this is your task. Just replace all ###your_code_goes_here sections with proper code, please consider the following table which contains all DML syntax you need:\n",
    "\n",
    "| Syntax        |            |   \n",
    "| ------------- |-------------| \n",
    "| t(M)      | transpose of a matrix, where M is the matrix | \n",
    "| %*% | matrix-matrix multiplication      |  \n",
    "| * | scalar multiplication      |   \n",
    "\n",
    "## Task"
   ]
  },
  {
   "cell_type": "code",
   "execution_count": 7,
   "metadata": {},
   "outputs": [],
   "source": [
    "script = \"\"\"\n",
    "res = sum(t(U) %*% (W * (U %*% S)))\n",
    "\"\"\""
   ]
  },
  {
   "cell_type": "markdown",
   "metadata": {},
   "source": [
    "To get consistent results we switch from a random matrix initialization to something deterministic"
   ]
  },
  {
   "cell_type": "code",
   "execution_count": 8,
   "metadata": {},
   "outputs": [],
   "source": [
    "u = np.arange(100000).reshape((100, 1000))\n",
    "s = np.arange(100000).reshape((1000, 100))\n",
    "w = np.arange(10000).reshape((100, 100))"
   ]
  },
  {
   "cell_type": "code",
   "execution_count": 9,
   "metadata": {},
   "outputs": [
    {
     "name": "stdout",
     "output_type": "stream",
     "text": [
      "SystemML Statistics:\n",
      "Total execution time:\t\t0.070 sec.\n",
      "Number of executed Spark inst:\t3.\n",
      "\n",
      "\n",
      "1.2526052592176266e+28\n"
     ]
    }
   ],
   "source": [
    "prog = dml(script).input('U', u).input('S', s).input('W', w).output('res')\n",
    "res = ml.execute(prog).get('res')\n",
    "print (res)"
   ]
  },
  {
   "cell_type": "markdown",
   "metadata": {},
   "source": [
    "If everything runs fine you should get *1.25260525922e+28* as result."
   ]
  },
  {
   "cell_type": "code",
   "execution_count": null,
   "metadata": {},
   "outputs": [],
   "source": []
  }
 ],
 "metadata": {
  "kernelspec": {
   "display_name": "Python 3",
   "language": "python",
   "name": "python3"
  },
  "language_info": {
   "codemirror_mode": {
    "name": "ipython",
    "version": 3
   },
   "file_extension": ".py",
   "mimetype": "text/x-python",
   "name": "python",
   "nbconvert_exporter": "python",
   "pygments_lexer": "ipython3",
   "version": "3.6.5"
  }
 },
 "nbformat": 4,
 "nbformat_minor": 1
}
