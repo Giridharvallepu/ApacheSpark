{
 "cells": [
  {
   "cell_type": "markdown",
   "metadata": {},
   "source": [
    "This is also the most advanced one because it somehow glues everything together you've learned. \n",
    "\n",
    "These are the steps you will do:\n",
    "- load a data frame from cloudant/ApacheCouchDB\n",
    "- perform feature transformation by calculating minimal and maximal values of different properties on time windows (we'll explain what a time windows is later in here)\n",
    "- reduce these now twelve dimensions to three using the PCA (Principal Component Analysis) algorithm of SparkML (Spark Machine Learning)\n",
    "- plot the dimensionality reduced data set\n",
    "\n"
   ]
  },
  {
   "cell_type": "code",
   "execution_count": 1,
   "metadata": {},
   "outputs": [],
   "source": [
    "hostname = \"\"\n",
    "user = \"\"\n",
    "pw = \"\"\n",
    "database = \"washing\""
   ]
  },
  {
   "cell_type": "code",
   "execution_count": 2,
   "metadata": {},
   "outputs": [],
   "source": [
    "spark = SparkSession\\\n",
    "    .builder\\\n",
    "    .appName(\"Cloudant Spark SQL Example in Python using temp tables\")\\\n",
    "    .config(\"cloudant.host\",hostname)\\\n",
    "    .config(\"cloudant.username\", user)\\\n",
    "    .config(\"cloudant.password\",pw)\\\n",
    "    .getOrCreate()\n"
   ]
  },
  {
   "cell_type": "code",
   "execution_count": 3,
   "metadata": {},
   "outputs": [],
   "source": [
    "#Please don't modify this function\n",
    "def readDataFrameFromCloudant(database):\n",
    "    cloudantdata=spark.read.load(database, \"org.apache.bahir.cloudant\")\n",
    "\n",
    "    cloudantdata.createOrReplaceTempView(\"washing\")\n",
    "    spark.sql(\"SELECT * from washing\").show()\n",
    "    return cloudantdata"
   ]
  },
  {
   "cell_type": "code",
   "execution_count": 4,
   "metadata": {},
   "outputs": [
    {
     "name": "stdout",
     "output_type": "stream",
     "text": [
      "+--------------------+--------------------+-----+--------+----------+---------+--------+-----+-----------+-------------+-------+\n",
      "|                 _id|                _rev|count|flowrate|fluidlevel|frequency|hardness|speed|temperature|           ts|voltage|\n",
      "+--------------------+--------------------+-----+--------+----------+---------+--------+-----+-----------+-------------+-------+\n",
      "|023d6c3d5e4dca3c0...|1-0e295f3f8897a70...|  210|      11|acceptable|     null|      70| null|         86|1547681623497|   null|\n",
      "|023d6c3d5e4dca3c0...|1-e828f4eed012183...|   73|    null|      null|       65|    null| null|       null|1547681632273|    239|\n",
      "|023d6c3d5e4dca3c0...|1-ce5cc37f32935e0...|  221|      11|acceptable|     null|      72| null|         89|1547681634516|   null|\n",
      "|023d6c3d5e4dca3c0...|1-abbf935add9adc0...|  222|      11|acceptable|     null|      71| null|         94|1547681635519|   null|\n",
      "|023d6c3d5e4dca3c0...|1-2c4c876dc7329a3...|  223|      11|acceptable|     null|      73| null|         88|1547681636521|   null|\n",
      "|023d6c3d5e4dca3c0...|1-f6b673aa5c43ef9...|   75|    null|      null|       62|    null| null|       null|1547681638276|    234|\n",
      "|023d6c3d5e4dca3c0...|1-74327f6f4c64983...|  229|      11|acceptable|     null|      80| null|         98|1547681642547|   null|\n",
      "|023d6c3d5e4dca3c0...|1-59fa008dd68f2bc...|   84|    null|      null|       79|    null| null|       null|1547681665294|    220|\n",
      "|023d6c3d5e4dca3c0...|1-61071ca8392da0c...|  253|      11|acceptable|     null|     155| null|         92|1547681666596|   null|\n",
      "|023d6c3d5e4dca3c0...|1-9b5cdba41917677...|  272|      11|acceptable|     null|      72| null|         97|1547681685674|   null|\n",
      "|023d6c3d5e4dca3c0...|1-02bc0ebae6356d4...|  304|      11|acceptable|     null|      87| null|         86|1547681717745|   null|\n",
      "|023d6c3d5e4dca3c0...|1-0a2b60fd7d63390...|  308|      11|acceptable|     null|      91| null|         97|1547681721751|   null|\n",
      "|023d6c3d5e4dca3c0...|1-0a195b1c2ca5944...|  309|      11|acceptable|     null|      92| null|         99|1547681722753|   null|\n",
      "|023d6c3d5e4dca3c0...|1-dfbce90290b6fc3...|   62|    null|      null|     null|    null| 1060|       null|1547681723193|   null|\n",
      "|023d6c3d5e4dca3c0...|1-b3f9655f3b5152a...|  321|      11|acceptable|     null|      71| null|        100|1547681734804|   null|\n",
      "|023d6c3d5e4dca3c0...|1-0231fe0d0329ccc...|  111|    null|      null|       75|    null| null|       null|1547681746340|    224|\n",
      "|023d6c3d5e4dca3c0...|1-427c6bc75abf110...|  112|    null|      null|       65|    null| null|       null|1547681749341|    228|\n",
      "|023d6c3d5e4dca3c0...|1-ea8722f09d27521...|  337|      11|acceptable|     null|      78| null|         93|1547681750837|   null|\n",
      "|023d6c3d5e4dca3c0...|1-8e756d1c59d2b7d...|  338|      11|acceptable|     null|      71| null|         81|1547681751838|   null|\n",
      "|023d6c3d5e4dca3c0...|1-7eac53d70e0795f...|  116|    null|      null|       67|    null| null|       null|1547681761352|    224|\n",
      "+--------------------+--------------------+-----+--------+----------+---------+--------+-----+-----------+-------------+-------+\n",
      "only showing top 20 rows\n",
      "\n",
      "+--------------------+--------------------+-----+--------+----------+---------+--------+-----+-----------+-------------+-------+\n",
      "|                 _id|                _rev|count|flowrate|fluidlevel|frequency|hardness|speed|temperature|           ts|voltage|\n",
      "+--------------------+--------------------+-----+--------+----------+---------+--------+-----+-----------+-------------+-------+\n",
      "|023d6c3d5e4dca3c0...|1-0e295f3f8897a70...|  210|      11|acceptable|     null|      70| null|         86|1547681623497|   null|\n",
      "|023d6c3d5e4dca3c0...|1-e828f4eed012183...|   73|    null|      null|       65|    null| null|       null|1547681632273|    239|\n",
      "|023d6c3d5e4dca3c0...|1-ce5cc37f32935e0...|  221|      11|acceptable|     null|      72| null|         89|1547681634516|   null|\n",
      "|023d6c3d5e4dca3c0...|1-abbf935add9adc0...|  222|      11|acceptable|     null|      71| null|         94|1547681635519|   null|\n",
      "|023d6c3d5e4dca3c0...|1-2c4c876dc7329a3...|  223|      11|acceptable|     null|      73| null|         88|1547681636521|   null|\n",
      "|023d6c3d5e4dca3c0...|1-f6b673aa5c43ef9...|   75|    null|      null|       62|    null| null|       null|1547681638276|    234|\n",
      "|023d6c3d5e4dca3c0...|1-74327f6f4c64983...|  229|      11|acceptable|     null|      80| null|         98|1547681642547|   null|\n",
      "|023d6c3d5e4dca3c0...|1-59fa008dd68f2bc...|   84|    null|      null|       79|    null| null|       null|1547681665294|    220|\n",
      "|023d6c3d5e4dca3c0...|1-61071ca8392da0c...|  253|      11|acceptable|     null|     155| null|         92|1547681666596|   null|\n",
      "|023d6c3d5e4dca3c0...|1-9b5cdba41917677...|  272|      11|acceptable|     null|      72| null|         97|1547681685674|   null|\n",
      "|023d6c3d5e4dca3c0...|1-02bc0ebae6356d4...|  304|      11|acceptable|     null|      87| null|         86|1547681717745|   null|\n",
      "|023d6c3d5e4dca3c0...|1-0a2b60fd7d63390...|  308|      11|acceptable|     null|      91| null|         97|1547681721751|   null|\n",
      "|023d6c3d5e4dca3c0...|1-0a195b1c2ca5944...|  309|      11|acceptable|     null|      92| null|         99|1547681722753|   null|\n",
      "|023d6c3d5e4dca3c0...|1-dfbce90290b6fc3...|   62|    null|      null|     null|    null| 1060|       null|1547681723193|   null|\n",
      "|023d6c3d5e4dca3c0...|1-b3f9655f3b5152a...|  321|      11|acceptable|     null|      71| null|        100|1547681734804|   null|\n",
      "|023d6c3d5e4dca3c0...|1-0231fe0d0329ccc...|  111|    null|      null|       75|    null| null|       null|1547681746340|    224|\n",
      "|023d6c3d5e4dca3c0...|1-427c6bc75abf110...|  112|    null|      null|       65|    null| null|       null|1547681749341|    228|\n",
      "|023d6c3d5e4dca3c0...|1-ea8722f09d27521...|  337|      11|acceptable|     null|      78| null|         93|1547681750837|   null|\n",
      "|023d6c3d5e4dca3c0...|1-8e756d1c59d2b7d...|  338|      11|acceptable|     null|      71| null|         81|1547681751838|   null|\n",
      "|023d6c3d5e4dca3c0...|1-7eac53d70e0795f...|  116|    null|      null|       67|    null| null|       null|1547681761352|    224|\n",
      "+--------------------+--------------------+-----+--------+----------+---------+--------+-----+-----------+-------------+-------+\n",
      "only showing top 20 rows\n",
      "\n"
     ]
    }
   ],
   "source": [
    "cloudantdata=readDataFrameFromCloudant(database)\n",
    "cloudantdata.createOrReplaceTempView(\"washing\")\n",
    "spark.sql(\"SELECT * FROM washing\").show()"
   ]
  },
  {
   "cell_type": "markdown",
   "metadata": {},
   "source": [
    "This is the feature transformation part of this exercise. Since our table is mixing schemas from different sensor data sources we are creating new features. In other word we use existing columns to calculate new ones. We only use min and max for now, but using more advanced aggregations as we've learned in week three may improve the results. We are calculating those aggregations over a sliding window \"w\". This window is defined in the SQL statement and basically reads the table by a one by one stride in direction of increasing timestamp. Whenever a row leaves the window a new one is included. Therefore this window is called sliding window (in contrast to tubling, time or count windows). More on this can be found here: https://flink.apache.org/news/2015/12/04/Introducing-windows.html\n",
    "\n"
   ]
  },
  {
   "cell_type": "code",
   "execution_count": 5,
   "metadata": {},
   "outputs": [],
   "source": [
    "result = spark.sql(\"\"\"\n",
    "SELECT * from (\n",
    "    SELECT\n",
    "    min(temperature) over w as min_temperature,\n",
    "    max(temperature) over w as max_temperature, \n",
    "    min(voltage) over w as min_voltage,\n",
    "    max(voltage) over w as max_voltage,\n",
    "    min(flowrate) over w as min_flowrate,\n",
    "    max(flowrate) over w as max_flowrate,\n",
    "    min(frequency) over w as min_frequency,\n",
    "    max(frequency) over w as max_frequency,\n",
    "    min(hardness) over w as min_hardness,\n",
    "    max(hardness) over w as max_hardness,\n",
    "    min(speed) over w as min_speed,\n",
    "    max(speed) over w as max_speed\n",
    "    FROM washing \n",
    "    WINDOW w AS (ORDER BY ts ROWS BETWEEN CURRENT ROW AND 10 FOLLOWING) \n",
    ")\n",
    "WHERE min_temperature is not null \n",
    "AND max_temperature is not null\n",
    "AND min_voltage is not null\n",
    "AND max_voltage is not null\n",
    "AND min_flowrate is not null\n",
    "AND max_flowrate is not null\n",
    "AND min_frequency is not null\n",
    "AND max_frequency is not null\n",
    "AND min_hardness is not null\n",
    "AND min_speed is not null\n",
    "AND max_speed is not null   \n",
    "\"\"\")"
   ]
  },
  {
   "cell_type": "markdown",
   "metadata": {},
   "source": [
    "Since this table contains null values also our window might contain them. In case for a certain feature all values in that window are null we obtain also null. As we can see here (in my dataset) this is the case for 9 rows."
   ]
  },
  {
   "cell_type": "code",
   "execution_count": 6,
   "metadata": {},
   "outputs": [
    {
     "data": {
      "text/plain": [
       "6"
      ]
     },
     "execution_count": 6,
     "metadata": {},
     "output_type": "execute_result"
    }
   ],
   "source": [
    "cloudantdata.count()-result.count()"
   ]
  },
  {
   "cell_type": "markdown",
   "metadata": {},
   "source": [
    "Now we import some classes from SparkML. PCA for the actual algorithm. Vectors for the data structure expected by PCA and VectorAssembler to transform data into these vector structures."
   ]
  },
  {
   "cell_type": "code",
   "execution_count": 7,
   "metadata": {},
   "outputs": [],
   "source": [
    "from pyspark.ml.feature import PCA\n",
    "from pyspark.ml.linalg import Vectors\n",
    "from pyspark.ml.feature import VectorAssembler"
   ]
  },
  {
   "cell_type": "markdown",
   "metadata": {},
   "source": [
    "Let's define a vector transformation helper class which takes all our input features (result.columns) and created one additional column called \"features\" which contains all our input features as one single column wrapped in \"DenseVector\" objects"
   ]
  },
  {
   "cell_type": "code",
   "execution_count": 8,
   "metadata": {},
   "outputs": [],
   "source": [
    "assembler = VectorAssembler(inputCols=result.columns, outputCol=\"features\")"
   ]
  },
  {
   "cell_type": "markdown",
   "metadata": {},
   "source": [
    "Now we actually transform the data, note that this is highly optimized code and runs really fast in contrast if we had implemented it."
   ]
  },
  {
   "cell_type": "code",
   "execution_count": 9,
   "metadata": {},
   "outputs": [],
   "source": [
    "features = assembler.transform(result)"
   ]
  },
  {
   "cell_type": "markdown",
   "metadata": {},
   "source": [
    "Let's have a look at how this new additional column \"features\" looks like:"
   ]
  },
  {
   "cell_type": "code",
   "execution_count": 10,
   "metadata": {},
   "outputs": [
    {
     "data": {
      "text/plain": [
       "[DenseVector([82.0, 94.0, 227.0, 229.0, 11.0, 11.0, 63.0, 78.0, 71.0, 79.0, 1096.0, 1096.0]),\n",
       " DenseVector([82.0, 94.0, 227.0, 229.0, 11.0, 11.0, 63.0, 78.0, 71.0, 79.0, 1096.0, 1096.0]),\n",
       " DenseVector([83.0, 94.0, 227.0, 229.0, 11.0, 11.0, 63.0, 78.0, 72.0, 79.0, 1096.0, 1096.0]),\n",
       " DenseVector([83.0, 94.0, 227.0, 229.0, 11.0, 11.0, 70.0, 78.0, 72.0, 79.0, 1052.0, 1096.0]),\n",
       " DenseVector([83.0, 94.0, 227.0, 229.0, 11.0, 11.0, 70.0, 78.0, 72.0, 77.0, 1052.0, 1096.0]),\n",
       " DenseVector([83.0, 94.0, 227.0, 229.0, 11.0, 11.0, 70.0, 78.0, 70.0, 77.0, 1052.0, 1096.0]),\n",
       " DenseVector([83.0, 94.0, 227.0, 229.0, 11.0, 11.0, 64.0, 78.0, 70.0, 77.0, 1052.0, 1052.0]),\n",
       " DenseVector([83.0, 94.0, 227.0, 229.0, 11.0, 11.0, 64.0, 78.0, 70.0, 78.0, 1052.0, 1052.0]),\n",
       " DenseVector([83.0, 98.0, 228.0, 229.0, 11.0, 11.0, 64.0, 70.0, 70.0, 79.0, 1052.0, 1052.0]),\n",
       " DenseVector([83.0, 98.0, 228.0, 229.0, 11.0, 11.0, 64.0, 70.0, 70.0, 79.0, 1052.0, 1052.0])]"
      ]
     },
     "execution_count": 10,
     "metadata": {},
     "output_type": "execute_result"
    }
   ],
   "source": [
    "features.rdd.map(lambda r : r.features).take(10)"
   ]
  },
  {
   "cell_type": "markdown",
   "metadata": {},
   "source": [
    "Since the source data set has been prepared as a list of DenseVectors we can now apply PCA. Note that the first line again only prepares the algorithm by finding the transformation matrices (fit method)"
   ]
  },
  {
   "cell_type": "code",
   "execution_count": 11,
   "metadata": {},
   "outputs": [],
   "source": [
    "pca = PCA(k=3, inputCol=\"features\", outputCol=\"pcaFeatures\")\n",
    "model = pca.fit(features)"
   ]
  },
  {
   "cell_type": "markdown",
   "metadata": {},
   "source": [
    "Now we can actually transform the data. Let's have a look at the first 20 rows"
   ]
  },
  {
   "cell_type": "code",
   "execution_count": 12,
   "metadata": {},
   "outputs": [
    {
     "name": "stdout",
     "output_type": "stream",
     "text": [
      "+----------------------------------------------------------+\n",
      "|pcaFeatures                                               |\n",
      "+----------------------------------------------------------+\n",
      "|[1552.8148876026798,51.98739619807137,-40.99164053513368] |\n",
      "|[1552.8148876026798,51.98739619807137,-40.99164053513368] |\n",
      "|[1552.8219741133594,52.36185103176367,-40.94495669672267] |\n",
      "|[1522.716270300451,51.79718531311729,-8.813766049397259]  |\n",
      "|[1522.6666103036107,49.947938247333376,-8.862371202806798]|\n",
      "|[1522.6511626375022,49.1943910360261,-8.951927389083835]  |\n",
      "|[1490.58467958036,51.27031883280762,-39.059490819705616]  |\n",
      "|[1490.60950957878,52.19494236569956,-39.0351882430009]    |\n",
      "|[1490.6127745074282,53.17802681155564,-38.926648107027745]|\n",
      "|[1490.6127745074282,53.17802681155564,-38.926648107027745]|\n",
      "|[1500.086030566597,52.58674187722204,-30.051142839746035] |\n",
      "|[1500.0769628401536,52.64421077859882,-30.11620575039194] |\n",
      "|[1500.0561334423935,52.71529061643092,-30.052905773827888]|\n",
      "|[1500.0557532062585,52.71718274881309,-30.057984915976476]|\n",
      "|[1508.9517077114965,52.85828220457843,-39.528061509262784]|\n",
      "|[1508.9511819020167,52.87072482313587,-39.5392934687203]  |\n",
      "|[1508.9862850229895,54.181397049526865,-39.47783577996688]|\n",
      "|[1508.9796299940385,54.210805594632475,-39.46827032155443]|\n",
      "|[1486.3975916345878,53.85263005307431,-15.428845123212227]|\n",
      "|[1486.3975916345878,53.85263005307431,-15.428845123212227]|\n",
      "+----------------------------------------------------------+\n",
      "only showing top 20 rows\n",
      "\n"
     ]
    }
   ],
   "source": [
    "result_pca = model.transform(features).select(\"pcaFeatures\")\n",
    "result_pca.show(truncate=False)"
   ]
  },
  {
   "cell_type": "markdown",
   "metadata": {},
   "source": [
    "So we obtained three completely new columns which we can plot now. Let run a final check if the number of rows is the same."
   ]
  },
  {
   "cell_type": "code",
   "execution_count": 13,
   "metadata": {},
   "outputs": [
    {
     "data": {
      "text/plain": [
       "8341"
      ]
     },
     "execution_count": 13,
     "metadata": {},
     "output_type": "execute_result"
    }
   ],
   "source": [
    "result_pca.count()"
   ]
  },
  {
   "cell_type": "markdown",
   "metadata": {},
   "source": [
    "Cool, this works as expected. Now we obtain a sample and read each of the three columns into a python list"
   ]
  },
  {
   "cell_type": "code",
   "execution_count": 14,
   "metadata": {},
   "outputs": [],
   "source": [
    "rdd = result_pca.rdd.sample(False,0.1)"
   ]
  },
  {
   "cell_type": "code",
   "execution_count": 15,
   "metadata": {},
   "outputs": [],
   "source": [
    "x = result_pca.rdd.map(lambda a : a.pcaFeatures).map(lambda a : a[0]).collect()"
   ]
  },
  {
   "cell_type": "code",
   "execution_count": 16,
   "metadata": {},
   "outputs": [],
   "source": [
    "y = result_pca.rdd.map(lambda a : a.pcaFeatures).map(lambda a : a[1]).collect()"
   ]
  },
  {
   "cell_type": "code",
   "execution_count": 17,
   "metadata": {},
   "outputs": [],
   "source": [
    "z = result_pca.rdd.map(lambda a : a.pcaFeatures).map(lambda a : a[2]).collect()"
   ]
  },
  {
   "cell_type": "markdown",
   "metadata": {},
   "source": [
    "Finally we plot the three lists and name each of them as dimension 1-3 in the plot"
   ]
  },
  {
   "cell_type": "code",
   "execution_count": 18,
   "metadata": {},
   "outputs": [
    {
     "data": {
      "image/png": "[encoded data removed]",
      "text/plain": [
       "<matplotlib.figure.Figure at 0x7fe2aa75be90>"
      ]
     },
     "metadata": {},
     "output_type": "display_data"
    }
   ],
   "source": [
    "%matplotlib inline\n",
    "import matplotlib.pyplot as plt\n",
    "from mpl_toolkits.mplot3d import Axes3D\n",
    "\n",
    "\n",
    "fig = plt.figure()\n",
    "ax = fig.add_subplot(111, projection='3d')\n",
    "\n",
    "\n",
    "\n",
    "\n",
    "ax.scatter(x,y,z, c='r', marker='o')\n",
    "\n",
    "ax.set_xlabel('dimension1')\n",
    "ax.set_ylabel('dimension2')\n",
    "ax.set_zlabel('dimension3')\n",
    "\n",
    "plt.show()"
   ]
  },
  {
   "cell_type": "markdown",
   "metadata": {
    "collapsed": true
   },
   "source": [
    "We can see two clusters in the data set. We can also see a third cluster which either can be outliers or a real cluster. In the next course we will actually learn how to compute clusters automatically. For now we know that the data indicates that there are two semi-stable states of the machine and sometime we see some anomalies since those data points don't fit into one of the two clusters."
   ]
  },
  {
   "cell_type": "code",
   "execution_count": null,
   "metadata": {},
   "outputs": [],
   "source": []
  }
 ],
 "metadata": {
  "kernelspec": {
   "display_name": "Python 3",
   "language": "python",
   "name": "python3"
  },
  "language_info": {
   "codemirror_mode": {
    "name": "ipython",
    "version": 3
   },
   "file_extension": ".py",
   "mimetype": "text/x-python",
   "name": "python",
   "nbconvert_exporter": "python",
   "pygments_lexer": "ipython3",
   "version": "3.6.5"
  }
 },
 "nbformat": 4,
 "nbformat_minor": 1
}
