{
    "nbformat_minor": 1, 
    "cells": [
        {
            "source": "This is the last assignment for the Coursera course \"Advanced Machine Learning and Signal Processing\"\n\nAgain, please insert to code to your ApacheCouchDB based Cloudant instance below using the \"Insert Code\" function of Watson Studio (you've done this in Assignment 1 before)\n\n\nDone, just execute all cells one after the other and you are done - just note that in the last one you should update your email address (the one you've used for coursera) and obtain a submission token, you get this from the programming assignment directly on coursera.\n\nPlease fill in the sections labelled with \"###YOUR_CODE_GOES_HERE###\"\n\nThe purpose of this assignment is to learn how feature engineering boosts model performance. You will apply Discrete Fourier Transformation on the accelerometer sensor time series and therefore transforming the dataset from the time to the frequency domain. \n\nAfter that, you\u2019ll use a classification algorithm of your choice to create a model and submit the new predictions to the grader. Done.\n", 
            "cell_type": "markdown", 
            "metadata": {}
        }, 
        {
            "execution_count": 32, 
            "cell_type": "code", 
            "metadata": {}, 
            "outputs": [], 
            "source": "# The code was removed by Watson Studio for sharing."
        }, 
        {
            "source": "Let's create a SparkSession object and put the Cloudant credentials into it", 
            "cell_type": "markdown", 
            "metadata": {}
        }, 
        {
            "execution_count": 33, 
            "cell_type": "code", 
            "metadata": {}, 
            "outputs": [], 
            "source": "spark = SparkSession\\\n    .builder\\\n    .appName(\"Cloudant Spark SQL Example in Python using temp tables\")\\\n    .config(\"cloudant.host\",credentials_1['custom_url'].split('@')[1])\\\n    .config(\"cloudant.username\", credentials_1['username'])\\\n    .config(\"cloudant.password\",credentials_1['password'])\\\n    .config(\"jsonstore.rdd.partitions\", 1)\\\n    .getOrCreate()"
        }, 
        {
            "source": "Now it\u2019s time to read the sensor data and create a temporary query table.", 
            "cell_type": "markdown", 
            "metadata": {}
        }, 
        {
            "execution_count": 34, 
            "cell_type": "code", 
            "metadata": {}, 
            "outputs": [], 
            "source": "df=spark.read.load('shake_classification1', \"com.cloudant.spark\")\ndf.createOrReplaceTempView(\"df\")"
        }, 
        {
            "source": "We need to make sure SystemML is installed.\n", 
            "cell_type": "markdown", 
            "metadata": {}
        }, 
        {
            "execution_count": 35, 
            "cell_type": "code", 
            "metadata": {}, 
            "outputs": [
                {
                    "output_type": "stream", 
                    "name": "stdout", 
                    "text": "Requirement already satisfied: systemml in /gpfs/global_fs01/sym_shared/YPProdSpark/user/se28-ff5f952d83926e-9db968b3acc0/.local/lib/python3.5/site-packages (1.2.0)\nRequirement already satisfied: numpy>=1.8.2 in /usr/local/src/conda3_runtime.v49/home/envs/DSX-Python35-Spark/lib/python3.5/site-packages (from systemml) (1.13.3)\nRequirement already satisfied: scikit-learn in /usr/local/src/conda3_runtime.v49/home/envs/DSX-Python35-Spark/lib/python3.5/site-packages (from systemml) (0.19.1)\nRequirement already satisfied: Pillow>=2.0.0 in /usr/local/src/conda3_runtime.v49/home/envs/DSX-Python35-Spark/lib/python3.5/site-packages (from systemml) (4.2.1)\nRequirement already satisfied: scipy>=0.15.1 in /usr/local/src/conda3_runtime.v49/home/envs/DSX-Python35-Spark/lib/python3.5/site-packages (from systemml) (1.0.0)\nRequirement already satisfied: pandas in /usr/local/src/conda3_runtime.v49/home/envs/DSX-Python35-Spark/lib/python3.5/site-packages (from systemml) (0.21.0)\nRequirement already satisfied: olefile in /usr/local/src/conda3_runtime.v49/home/envs/DSX-Python35-Spark/lib/python3.5/site-packages (from Pillow>=2.0.0->systemml) (0.44)\nRequirement already satisfied: python-dateutil>=2 in /usr/local/src/conda3_runtime.v49/home/envs/DSX-Python35-Spark/lib/python3.5/site-packages (from pandas->systemml) (2.6.1)\nRequirement already satisfied: pytz>=2011k in /usr/local/src/conda3_runtime.v49/home/envs/DSX-Python35-Spark/lib/python3.5/site-packages (from pandas->systemml) (2018.4)\nRequirement already satisfied: six>=1.5 in /usr/local/src/conda3_runtime.v49/home/envs/DSX-Python35-Spark/lib/python3.5/site-packages (from python-dateutil>=2->pandas->systemml) (1.11.0)\n\u001b[31mnotebook 5.0.0 requires nbconvert, which is not installed.\u001b[0m\n\u001b[31mipywidgets 6.0.0 requires widgetsnbextension~=2.0.0, which is not installed.\u001b[0m\n\u001b[31mtensorflow 1.3.0 requires tensorflow-tensorboard<0.2.0,>=0.1.0, which is not installed.\u001b[0m\n"
                }
            ], 
            "source": "!pip install systemml"
        }, 
        {
            "source": "We\u2019ll use Apache SystemML to implement Discrete Fourier Transformation. This way all computation continues to happen on the Apache Spark cluster for advanced scalability and performance.", 
            "cell_type": "markdown", 
            "metadata": {}
        }, 
        {
            "execution_count": 36, 
            "cell_type": "code", 
            "metadata": {}, 
            "outputs": [], 
            "source": "from systemml import MLContext, dml\nml = MLContext(spark)"
        }, 
        {
            "source": "As you\u2019ve learned from the lecture, implementing Discrete Fourier Transformation in a linear algebra programming language is simple. Apache SystemML DML is such a language and as you can see the implementation is straightforward and doesn\u2019t differ too much from the mathematical definition (Just note that the sum operator has been swapped with a vector dot product using the %*% syntax borrowed from R\n):\n\n<img style=\"float: left;\" src=\"https://wikimedia.org/api/rest_v1/media/math/render/svg/1af0a78dc50bbf118ab6bd4c4dcc3c4ff8502223\">\n\n", 
            "cell_type": "markdown", 
            "metadata": {}
        }, 
        {
            "execution_count": 37, 
            "cell_type": "code", 
            "metadata": {}, 
            "outputs": [], 
            "source": "dml_script = '''\nPI = 3.141592654\nN = nrow(signal)\n\nn = seq(0, N-1, 1)\nk = seq(0, N-1, 1)\n\nM = (n %*% t(k))*(2*PI/N)\n\nXa = cos(M) %*% signal\nXb = sin(M) %*% signal\n\nDFT = cbind(Xa, Xb)\n'''"
        }, 
        {
            "source": "Now it\u2019s time to create a function which takes a single row Apache Spark data frame as argument (the one containing the accelerometer measurement time series for one axis) and returns the Fourier transformation of it. In addition, we are adding an index column for later joining all axis together and renaming the columns to appropriate names. The result of this function is an Apache Spark DataFrame containing the Fourier Transformation of its input in two columns. \n", 
            "cell_type": "markdown", 
            "metadata": {}
        }, 
        {
            "execution_count": 38, 
            "cell_type": "code", 
            "metadata": {}, 
            "outputs": [], 
            "source": "from pyspark.sql.functions import monotonically_increasing_id\n\ndef dft_systemml(signal,name):\n    prog = dml(dml_script).input('signal', signal).output('DFT')\n    \n    return (\n\n    #execute the script inside the SystemML engine running on top of Apache Spark\n    ml.execute(prog) \n     \n         #read result from SystemML execution back as SystemML Matrix\n        .get('DFT') \n     \n         #convert SystemML Matrix to ApacheSpark DataFrame \n        .toDF() \n     \n         #rename default column names\n        .selectExpr('C1 as %sa' % (name), 'C2 as %sb' % (name)) \n     \n         #add unique ID per row for later joining\n        .withColumn(\"id\", monotonically_increasing_id())\n    )\n        \n\n\n"
        }, 
        {
            "source": "Now it\u2019s time to create DataFrames containing for each accelerometer sensor axis and one for each class. This means you\u2019ll get 6 DataFrames. Please implement this using the relational API of DataFrames or SparkSQL.\n", 
            "cell_type": "markdown", 
            "metadata": {}
        }, 
        {
            "execution_count": 39, 
            "cell_type": "code", 
            "metadata": {}, 
            "outputs": [], 
            "source": "x0 = spark.sql('SELECT X FROM df WHERE class = 0')\ny0 = spark.sql('SELECT Y FROM df WHERE class = 0')\nz0 = spark.sql('SELECT Z FROM df WHERE class = 0')\nx1 = spark.sql('SELECT X FROM df WHERE class = 1')\ny1 = spark.sql('SELECT Y FROM df WHERE class = 1')\nz1 = spark.sql('SELECT Z FROM df WHERE class = 1')"
        }, 
        {
            "source": "Since we\u2019ve created this cool DFT function before, we can just call it for each of the 6 DataFrames now. And since the result of this function call is a DataFrame again we can use the pyspark best practice in simply calling methods on it sequentially. So what we are doing is the following:\n\n- Calling DFT for each class and accelerometer sensor axis.\n- Joining them together on the ID column. \n- Re-adding a column containing the class index.\n- Stacking both Dataframes for each classes together\n\n", 
            "cell_type": "markdown", 
            "metadata": {}
        }, 
        {
            "execution_count": 40, 
            "cell_type": "code", 
            "metadata": {}, 
            "outputs": [
                {
                    "output_type": "stream", 
                    "name": "stdout", 
                    "text": "SystemML Statistics:\nTotal execution time:\t\t0.520 sec.\nNumber of executed Spark inst:\t0.\n\n\nSystemML Statistics:\nTotal execution time:\t\t0.299 sec.\nNumber of executed Spark inst:\t0.\n\n\nSystemML Statistics:\nTotal execution time:\t\t0.325 sec.\nNumber of executed Spark inst:\t0.\n\n\nSystemML Statistics:\nTotal execution time:\t\t0.358 sec.\nNumber of executed Spark inst:\t0.\n\n\nSystemML Statistics:\nTotal execution time:\t\t0.354 sec.\nNumber of executed Spark inst:\t0.\n\n\nSystemML Statistics:\nTotal execution time:\t\t0.340 sec.\nNumber of executed Spark inst:\t0.\n\n\n+----------+--------------------+--------------------+--------------------+--------------------+--------------------+--------------------+-----+\n|        id|                  xa|                  xb|                  ya|                  yb|                  za|                  zb|class|\n+----------+--------------------+--------------------+--------------------+--------------------+--------------------+--------------------+-----+\n|        26| 0.04820933865775663| 0.09558827397769044| 0.04820933865775663| 0.09558827397769044| 0.04820933865775663| 0.09558827397769044|    0|\n|        29|-0.23240602823548473|  1.0577569914231915|-0.23240602823548473|  1.0577569914231915|-0.23240602823548473|  1.0577569914231915|    0|\n|8589934658| -0.9695254651630417| -1.7420151416690628| -0.9695254651630417| -1.7420151416690628| -0.9695254651630417| -1.7420151416690628|    0|\n|8589934965|  0.9139102749642984| -0.8816802467152786|  0.9139102749642984| -0.8816802467152786|  0.9139102749642984| -0.8816802467152786|    0|\n|        65|  1.8782213908717171| -0.5439504940737634|  1.8782213908717171| -0.5439504940737634|  1.8782213908717171| -0.5439504940737634|    0|\n|       191|  0.4725958739070465| -1.1311550929694498|  0.4725958739070465| -1.1311550929694498|  0.4725958739070465| -1.1311550929694498|    0|\n|8589934785| -0.8972187498598572|  0.5174885287249422| -0.8972187498598572|  0.5174885287249422| -0.8972187498598572|  0.5174885287249422|    0|\n|8589934903|  1.3865471223133183| -0.6733718971381534|  1.3865471223133183| -0.6733718971381534|  1.3865471223133183| -0.6733718971381534|    0|\n|       222| 0.44122381207341643| 0.07030920536272799| 0.44122381207341643| 0.07030920536272799| 0.44122381207341643| 0.07030920536272799|    0|\n|       270|-0.02030698498698...| -0.5861983095362989|-0.02030698498698...| -0.5861983095362989|-0.02030698498698...| -0.5861983095362989|    0|\n|       293|-0.26764594591175855|-0.15786219312553845|-0.26764594591175855|-0.15786219312553845|-0.26764594591175855|-0.15786219312553845|    0|\n|       243|  1.7243450772731754| -0.7728987610088038|  1.7243450772731754| -0.7728987610088038|  1.7243450772731754| -0.7728987610088038|    0|\n|       278|  0.7087000114275435|  1.9647587272314215|  0.7087000114275435|  1.9647587272314215|  0.7087000114275435|  1.9647587272314215|    0|\n|       367|   1.157358560993878| -2.6658774116737045|   1.157358560993878| -2.6658774116737045|   1.157358560993878| -2.6658774116737045|    0|\n|8589934592|  -1.169089845718075| -2.9317126113936562|  -1.169089845718075| -2.9317126113936562|  -1.169089845718075| -2.9317126113936562|    0|\n|8589934843| 0.14980582233742085| -1.9934046588948453| 0.14980582233742085| -1.9934046588948453| 0.14980582233742085| -1.9934046588948453|    0|\n|        19|  -0.750000037965562|   0.363730580108952|  -0.750000037965562|   0.363730580108952|  -0.750000037965562|   0.363730580108952|    0|\n|        54|  0.8737606621803642|  -0.866373261995532|  0.8737606621803642|  -0.866373261995532|  0.8737606621803642|  -0.866373261995532|    0|\n|       296| 0.22652037960063115| -1.0778956864903289| 0.22652037960063115| -1.0778956864903289| 0.22652037960063115| -1.0778956864903289|    0|\n|8589934961|  1.9184823886879312| -1.1463390032974896|  1.9184823886879312| -1.1463390032974896|  1.9184823886879312| -1.1463390032974896|    0|\n+----------+--------------------+--------------------+--------------------+--------------------+--------------------+--------------------+-----+\nonly showing top 20 rows\n\n"
                }
            ], 
            "source": "from pyspark.sql.functions import lit\n\ndf_class_0 = dft_systemml(x0,'x') \\\n    .join(dft_systemml(y0,'y'), on=['id'], how='inner') \\\n    .join(dft_systemml(z0,'z'), on=['id'], how='inner') \\\n    .withColumn('class', lit(0))\n    \ndf_class_1 = dft_systemml(x1,'x') \\\n    .join(dft_systemml(y1,'y'), on=['id'], how='inner') \\\n    .join(dft_systemml(z1,'z'), on=['id'], how='inner') \\\n    .withColumn('class', lit(1))\n\ndf_dft = df_class_0.union(df_class_1)\n\ndf_dft.show()"
        }, 
        {
            "source": "Please create a VectorAssembler which consumes the newly created DFT columns and produces a column \u201cfeatures\u201d\n", 
            "cell_type": "markdown", 
            "metadata": {}
        }, 
        {
            "execution_count": 41, 
            "cell_type": "code", 
            "metadata": {}, 
            "outputs": [], 
            "source": "from pyspark.ml.feature import VectorAssembler\nvectorAssembler = VectorAssembler(inputCols=[\"xa\",\"xb\",\"ya\",\"yb\",\"za\",\"zb\"],outputCol=\"features\")"
        }, 
        {
            "source": "Please insatiate a classifier from the SparkML package and assign it to the classifier variable. Make sure to set the \u201cclass\u201d column as target.\n", 
            "cell_type": "markdown", 
            "metadata": {}
        }, 
        {
            "execution_count": 2, 
            "cell_type": "code", 
            "metadata": {}, 
            "outputs": [], 
            "source": "from pyspark.ml.classification import LogisticRegression\n#from pyspark.ml.feature import PCA\n\n#pca = PCA(k=3, inputCol=\"features\", outputCol=\"pcaFeatures\")\nclassifier = LogisticRegression(labelCol = 'class',maxIter=10, regParam=0.3, elasticNetParam=0.8)"
        }, 
        {
            "source": "Let\u2019s train and evaluate\u2026\n", 
            "cell_type": "markdown", 
            "metadata": {}
        }, 
        {
            "execution_count": null, 
            "cell_type": "code", 
            "metadata": {}, 
            "outputs": [], 
            "source": "from pyspark.ml import Pipeline\npipeline = Pipeline(stages=[vectorAssembler, classifier])"
        }, 
        {
            "execution_count": 44, 
            "cell_type": "code", 
            "metadata": {}, 
            "outputs": [], 
            "source": "model = pipeline.fit(df_dft)"
        }, 
        {
            "execution_count": 45, 
            "cell_type": "code", 
            "metadata": {}, 
            "outputs": [], 
            "source": "prediction = model.transform(df_dft)"
        }, 
        {
            "execution_count": 46, 
            "cell_type": "code", 
            "metadata": {}, 
            "outputs": [
                {
                    "output_type": "stream", 
                    "name": "stdout", 
                    "text": "+----------+--------------------+--------------------+--------------------+--------------------+--------------------+--------------------+-----+--------------------+--------------------+--------------------+----------+\n|        id|                  xa|                  xb|                  ya|                  yb|                  za|                  zb|class|            features|       rawPrediction|         probability|prediction|\n+----------+--------------------+--------------------+--------------------+--------------------+--------------------+--------------------+-----+--------------------+--------------------+--------------------+----------+\n|        26| 0.04820933865775663| 0.09558827397769044| 0.04820933865775663| 0.09558827397769044| 0.04820933865775663| 0.09558827397769044|    0|[0.04820933865775...|[-0.2435572675428...|[0.43940990516332...|       1.0|\n|        29|-0.23240602823548473|  1.0577569914231915|-0.23240602823548473|  1.0577569914231915|-0.23240602823548473|  1.0577569914231915|    0|[-0.2324060282354...|[-0.2435572675428...|[0.43940990516332...|       1.0|\n|8589934658| -0.9695254651630417| -1.7420151416690628| -0.9695254651630417| -1.7420151416690628| -0.9695254651630417| -1.7420151416690628|    0|[-0.9695254651630...|[-0.2435572675428...|[0.43940990516332...|       1.0|\n|8589934965|  0.9139102749642984| -0.8816802467152786|  0.9139102749642984| -0.8816802467152786|  0.9139102749642984| -0.8816802467152786|    0|[0.91391027496429...|[-0.2435572675428...|[0.43940990516332...|       1.0|\n|        65|  1.8782213908717171| -0.5439504940737634|  1.8782213908717171| -0.5439504940737634|  1.8782213908717171| -0.5439504940737634|    0|[1.87822139087171...|[-0.2435572675428...|[0.43940990516332...|       1.0|\n|       191|  0.4725958739070465| -1.1311550929694498|  0.4725958739070465| -1.1311550929694498|  0.4725958739070465| -1.1311550929694498|    0|[0.47259587390704...|[-0.2435572675428...|[0.43940990516332...|       1.0|\n|8589934785| -0.8972187498598572|  0.5174885287249422| -0.8972187498598572|  0.5174885287249422| -0.8972187498598572|  0.5174885287249422|    0|[-0.8972187498598...|[-0.2435572675428...|[0.43940990516332...|       1.0|\n|8589934903|  1.3865471223133183| -0.6733718971381534|  1.3865471223133183| -0.6733718971381534|  1.3865471223133183| -0.6733718971381534|    0|[1.38654712231331...|[-0.2435572675428...|[0.43940990516332...|       1.0|\n|       222| 0.44122381207341643| 0.07030920536272799| 0.44122381207341643| 0.07030920536272799| 0.44122381207341643| 0.07030920536272799|    0|[0.44122381207341...|[-0.2435572675428...|[0.43940990516332...|       1.0|\n|       270|-0.02030698498698...| -0.5861983095362989|-0.02030698498698...| -0.5861983095362989|-0.02030698498698...| -0.5861983095362989|    0|[-0.0203069849869...|[-0.2435572675428...|[0.43940990516332...|       1.0|\n|       293|-0.26764594591175855|-0.15786219312553845|-0.26764594591175855|-0.15786219312553845|-0.26764594591175855|-0.15786219312553845|    0|[-0.2676459459117...|[-0.2435572675428...|[0.43940990516332...|       1.0|\n|       243|  1.7243450772731754| -0.7728987610088038|  1.7243450772731754| -0.7728987610088038|  1.7243450772731754| -0.7728987610088038|    0|[1.72434507727317...|[-0.2435572675428...|[0.43940990516332...|       1.0|\n|       278|  0.7087000114275435|  1.9647587272314215|  0.7087000114275435|  1.9647587272314215|  0.7087000114275435|  1.9647587272314215|    0|[0.70870001142754...|[-0.2435572675428...|[0.43940990516332...|       1.0|\n|       367|   1.157358560993878| -2.6658774116737045|   1.157358560993878| -2.6658774116737045|   1.157358560993878| -2.6658774116737045|    0|[1.15735856099387...|[-0.2435572675428...|[0.43940990516332...|       1.0|\n|8589934592|  -1.169089845718075| -2.9317126113936562|  -1.169089845718075| -2.9317126113936562|  -1.169089845718075| -2.9317126113936562|    0|[-1.1690898457180...|[-0.2435572675428...|[0.43940990516332...|       1.0|\n|8589934843| 0.14980582233742085| -1.9934046588948453| 0.14980582233742085| -1.9934046588948453| 0.14980582233742085| -1.9934046588948453|    0|[0.14980582233742...|[-0.2435572675428...|[0.43940990516332...|       1.0|\n|        19|  -0.750000037965562|   0.363730580108952|  -0.750000037965562|   0.363730580108952|  -0.750000037965562|   0.363730580108952|    0|[-0.7500000379655...|[-0.2435572675428...|[0.43940990516332...|       1.0|\n|        54|  0.8737606621803642|  -0.866373261995532|  0.8737606621803642|  -0.866373261995532|  0.8737606621803642|  -0.866373261995532|    0|[0.87376066218036...|[-0.2435572675428...|[0.43940990516332...|       1.0|\n|       296| 0.22652037960063115| -1.0778956864903289| 0.22652037960063115| -1.0778956864903289| 0.22652037960063115| -1.0778956864903289|    0|[0.22652037960063...|[-0.2435572675428...|[0.43940990516332...|       1.0|\n|8589934961|  1.9184823886879312| -1.1463390032974896|  1.9184823886879312| -1.1463390032974896|  1.9184823886879312| -1.1463390032974896|    0|[1.91848238868793...|[-0.2435572675428...|[0.43940990516332...|       1.0|\n+----------+--------------------+--------------------+--------------------+--------------------+--------------------+--------------------+-----+--------------------+--------------------+--------------------+----------+\nonly showing top 20 rows\n\n"
                }
            ], 
            "source": "prediction.show()"
        }, 
        {
            "execution_count": 47, 
            "cell_type": "code", 
            "metadata": {}, 
            "outputs": [
                {
                    "execution_count": 47, 
                    "metadata": {}, 
                    "data": {
                        "text/plain": "0.5605900948366702"
                    }, 
                    "output_type": "execute_result"
                }
            ], 
            "source": "from pyspark.ml.evaluation import MulticlassClassificationEvaluator\nbinEval = MulticlassClassificationEvaluator().setMetricName(\"accuracy\") .setPredictionCol(\"prediction\").setLabelCol(\"class\")\n    \nbinEval.evaluate(prediction) "
        }, 
        {
            "source": "If you are happy with the result (I\u2019m happy with > 0.8) please submit your solution to the grader by executing the following cells, please don\u2019t forget to obtain an assignment submission token (secret) from the Courera\u2019s graders web page and paste it to the \u201csecret\u201d variable below, including your email address you\u2019ve used for Coursera. \n", 
            "cell_type": "markdown", 
            "metadata": {}
        }, 
        {
            "execution_count": 26, 
            "cell_type": "code", 
            "metadata": {}, 
            "outputs": [], 
            "source": "!rm -Rf a2_m4.json"
        }, 
        {
            "execution_count": 27, 
            "cell_type": "code", 
            "metadata": {}, 
            "outputs": [], 
            "source": "prediction = prediction.repartition(1)\nprediction.write.json('a2_m4.json')"
        }, 
        {
            "execution_count": 28, 
            "cell_type": "code", 
            "metadata": {}, 
            "outputs": [
                {
                    "output_type": "stream", 
                    "name": "stdout", 
                    "text": "--2019-01-24 22:28:52--  https://raw.githubusercontent.com/romeokienzler/developerWorks/master/coursera/ai/rklib.py\nResolving raw.githubusercontent.com (raw.githubusercontent.com)... 151.101.48.133\nConnecting to raw.githubusercontent.com (raw.githubusercontent.com)|151.101.48.133|:443... connected.\nHTTP request sent, awaiting response... 200 OK\nLength: 2289 (2.2K) [text/plain]\nSaving to: \u2018rklib.py\u2019\n\n100%[======================================>] 2,289       --.-K/s   in 0s      \n\n2019-01-24 22:28:52 (11.8 MB/s) - \u2018rklib.py\u2019 saved [2289/2289]\n\n"
                }
            ], 
            "source": "!rm -f rklib.py\n!wget https://raw.githubusercontent.com/romeokienzler/developerWorks/master/coursera/ai/rklib.py"
        }, 
        {
            "execution_count": 29, 
            "cell_type": "code", 
            "metadata": {}, 
            "outputs": [
                {
                    "output_type": "stream", 
                    "name": "stdout", 
                    "text": "  adding: a2_m4.json/ (stored 0%)\n  adding: a2_m4.json/_SUCCESS (stored 0%)\n  adding: a2_m4.json/._SUCCESS.crc (stored 0%)\n  adding: a2_m4.json/part-00000-2c95bfae-093f-4285-bebf-21183e4d826f.json (deflated 90%)\n  adding: a2_m4.json/.part-00000-2c95bfae-093f-4285-bebf-21183e4d826f.json.crc (stored 0%)\n"
                }
            ], 
            "source": "!zip -r a2_m4.json.zip a2_m4.json"
        }, 
        {
            "execution_count": 30, 
            "cell_type": "code", 
            "metadata": {}, 
            "outputs": [], 
            "source": "!base64 a2_m4.json.zip > a2_m4.json.zip.base64"
        }, 
        {
            "execution_count": 31, 
            "cell_type": "code", 
            "metadata": {}, 
            "outputs": [
                {
                    "output_type": "stream", 
                    "name": "stdout", 
                    "text": "Submission successful, please check on the coursera grader page for the status\n-------------------------\n{\"elements\":[{\"itemId\":\"B8wXV\",\"id\":\"f_F-qCtuEei_fRLwaVDk3g~B8wXV~6Dz9qSBZEemhcRJ_0_TzjA\",\"courseId\":\"f_F-qCtuEei_fRLwaVDk3g\"}],\"paging\":{},\"linked\":{}}\n-------------------------\n"
                }
            ], 
            "source": "from rklib import submit\nkey = \"-fBiYHYDEeiR4QqiFhAvkA\"\npart = \"IjtJk\"\nemail = \"gvallepu@in.ibm.com\"\nsecret = \"h1sGflD6sO4NVoUI\"\n\nwith open('a2_m4.json.zip.base64', 'r') as myfile:\n    data=myfile.read()\nsubmit(email, secret, key, part, [part], data)"
        }, 
        {
            "execution_count": null, 
            "cell_type": "code", 
            "metadata": {}, 
            "outputs": [], 
            "source": ""
        }
    ], 
    "metadata": {
        "kernelspec": {
            "display_name": "Python 2 with Spark 2.1", 
            "name": "python2-spark21", 
            "language": "python"
        }, 
        "language_info": {
            "mimetype": "text/x-python", 
            "nbconvert_exporter": "python", 
            "version": "2.7.14", 
            "name": "python", 
            "file_extension": ".py", 
            "pygments_lexer": "ipython2", 
            "codemirror_mode": {
                "version": 2, 
                "name": "ipython"
            }
        }
    }, 
    "nbformat": 4
}