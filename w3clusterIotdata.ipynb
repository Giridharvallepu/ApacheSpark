{
 "cells": [
  {
   "cell_type": "markdown",
   "metadata": {},
   "source": [
    "Again, please insert to code to your ApacheCouchDB based Cloudant instance below using the \"Insert Code\" function of Watson Studio\n"
   ]
  },
  {
   "cell_type": "code",
   "execution_count": 1,
   "metadata": {},
   "outputs": [],
   "source": [
    "#your cloudant credentials go here\n",
    "# @hidden_cell\n",
    "# @hidden_cell\n",
    "credentials_1 = {\n",
    "  'password':\"\"\"\"\"\",\n",
    "  'custom_url':'',\n",
    "  'username':'',\n",
    "  'url':'https://undefined'\n",
    "}\n"
   ]
  },
  {
   "cell_type": "markdown",
   "metadata": {},
   "source": [
    "Let's create a SparkSession object and put the Cloudant credentials into it"
   ]
  },
  {
   "cell_type": "code",
   "execution_count": 2,
   "metadata": {},
   "outputs": [],
   "source": [
    "spark = SparkSession\\\n",
    "    .builder\\\n",
    "    .appName(\"Cloudant Spark SQL Example in Python using temp tables\")\\\n",
    "    .config(\"cloudant.host\",credentials_1['custom_url'].split('@')[1])\\\n",
    "    .config(\"cloudant.username\", credentials_1['username'])\\\n",
    "    .config(\"cloudant.password\",credentials_1['password'])\\\n",
    "    .config(\"jsonstore.rdd.partitions\", 1)\\\n",
    "    .getOrCreate()"
   ]
  },
  {
   "cell_type": "markdown",
   "metadata": {},
   "source": [
    "Now it’s time to have a look at the recorded sensor data. You should see data similar to the one exemplified below….\n"
   ]
  },
  {
   "cell_type": "code",
   "execution_count": 12,
   "metadata": {},
   "outputs": [
    {
     "name": "stdout",
     "output_type": "stream",
     "text": [
      "+-----+--------+-----+-----+-----+--------------------+--------------------+\n",
      "|CLASS|SENSORID|    X|    Y|    Z|                 _id|                _rev|\n",
      "+-----+--------+-----+-----+-----+--------------------+--------------------+\n",
      "|    0|bronsist| 0.42| 0.42| 0.42|3d6d1bfe7b2d5e286...|1-fd44d2472d5546a...|\n",
      "|    0|bronsist|-0.13|-0.13|-0.13|3d6d1bfe7b2d5e286...|1-3ba067a4dd6a5ec...|\n",
      "|    0|bronsist|-0.02|-0.02|-0.02|3d6d1bfe7b2d5e286...|1-a0cf67f39799ea2...|\n",
      "|    0|bronsist|  0.0|  0.0|  0.0|3d6d1bfe7b2d5e286...|1-bda6b817f4b289f...|\n",
      "|    0|bronsist|  0.0|  0.0|  0.0|3d6d1bfe7b2d5e286...|1-bda6b817f4b289f...|\n",
      "|    0|bronsist| 0.01| 0.01| 0.01|3d6d1bfe7b2d5e286...|1-47f59512a7fe600...|\n",
      "|    0|bronsist| 0.01| 0.01| 0.01|3d6d1bfe7b2d5e286...|1-47f59512a7fe600...|\n",
      "|    0|bronsist|-0.01|-0.01|-0.01|3d6d1bfe7b2d5e286...|1-4cf105a41e10f81...|\n",
      "|    0|bronsist|  0.0|  0.0|  0.0|3d6d1bfe7b2d5e286...|1-bda6b817f4b289f...|\n",
      "|    0|bronsist| 0.01| 0.01| 0.01|3d6d1bfe7b2d5e286...|1-47f59512a7fe600...|\n",
      "|    0|bronsist| 0.01| 0.01| 0.01|3d6d1bfe7b2d5e286...|1-47f59512a7fe600...|\n",
      "|    0|bronsist|  0.0|  0.0|  0.0|3d6d1bfe7b2d5e286...|1-bda6b817f4b289f...|\n",
      "|    0|bronsist|  0.0|  0.0|  0.0|3d6d1bfe7b2d5e286...|1-bda6b817f4b289f...|\n",
      "|    0|bronsist|  0.0|  0.0|  0.0|3d6d1bfe7b2d5e286...|1-bda6b817f4b289f...|\n",
      "|    0|bronsist|  0.0|  0.0|  0.0|3d6d1bfe7b2d5e286...|1-bda6b817f4b289f...|\n",
      "|    0|bronsist|  0.0|  0.0|  0.0|3d6d1bfe7b2d5e286...|1-bda6b817f4b289f...|\n",
      "|    0|bronsist|  0.0|  0.0|  0.0|3d6d1bfe7b2d5e286...|1-bda6b817f4b289f...|\n",
      "|    0|bronsist|  0.0|  0.0|  0.0|3d6d1bfe7b2d5e286...|1-bda6b817f4b289f...|\n",
      "|    0|bronsist|  0.0|  0.0|  0.0|3d6d1bfe7b2d5e286...|1-bda6b817f4b289f...|\n",
      "|    0|bronsist|  0.0|  0.0|  0.0|3d6d1bfe7b2d5e286...|1-bda6b817f4b289f...|\n",
      "+-----+--------+-----+-----+-----+--------------------+--------------------+\n",
      "only showing top 20 rows\n",
      "\n"
     ]
    }
   ],
   "source": [
    "df=spark.read.load('shake_classification1', \"com.cloudant.spark\")\n",
    "\n",
    "df.createOrReplaceTempView(\"df\")\n",
    "spark.sql(\"SELECT * from df\").show()\n"
   ]
  },
  {
   "cell_type": "markdown",
   "metadata": {},
   "source": [
    "Let’s check if we have balanced classes – this means that we have roughly the same number of examples for each class we want to predict. This is important for classification but also helpful for clustering"
   ]
  },
  {
   "cell_type": "code",
   "execution_count": 13,
   "metadata": {},
   "outputs": [
    {
     "name": "stdout",
     "output_type": "stream",
     "text": [
      "+------------+-----+\n",
      "|count(class)|class|\n",
      "+------------+-----+\n",
      "|         834|    0|\n",
      "|        1064|    1|\n",
      "+------------+-----+\n",
      "\n"
     ]
    }
   ],
   "source": [
    "spark.sql(\"SELECT count(class), class from df group by class\").show()"
   ]
  },
  {
   "cell_type": "markdown",
   "metadata": {},
   "source": [
    "Let's create a VectorAssembler which consumes columns X, Y and Z and produces a column “features”\n"
   ]
  },
  {
   "cell_type": "code",
   "execution_count": 14,
   "metadata": {},
   "outputs": [],
   "source": [
    "from pyspark.ml.feature import VectorAssembler\n",
    "vectorAssembler = VectorAssembler(inputCols=[\"X\",\"Y\",\"Z\"],\n",
    "                                  outputCol=\"features\")"
   ]
  },
  {
   "cell_type": "markdown",
   "metadata": {},
   "source": [
    "Please insatiate a clustering algorithm from the SparkML package and assign it to the clust variable. Here we don’t need to take care of the “CLASS” column since we are in unsupervised learning mode – so let’s pretend to not even have the “CLASS” column for now – but it will become very handy later in assessing the clustering performance. PLEASE NOTE – IN REAL-WORLD SCENARIOS THERE IS NO CLASS COLUMN – THEREFORE YOU CAN’T ASSESS CLASSIFICATION PERFORMANCE USING THIS COLUMN \n",
    "\n"
   ]
  },
  {
   "cell_type": "code",
   "execution_count": 15,
   "metadata": {},
   "outputs": [],
   "source": [
    "from pyspark.ml.clustering import KMeans\n",
    "\n",
    "clust = KMeans().setK(2).setSeed(1)"
   ]
  },
  {
   "cell_type": "markdown",
   "metadata": {},
   "source": [
    "Let’s train...\n"
   ]
  },
  {
   "cell_type": "code",
   "execution_count": 16,
   "metadata": {},
   "outputs": [],
   "source": [
    "from pyspark.ml import Pipeline\n",
    "pipeline = Pipeline(stages=[vectorAssembler, clust])\n",
    "model = pipeline.fit(df)"
   ]
  },
  {
   "cell_type": "markdown",
   "metadata": {},
   "source": [
    "...and evaluate..."
   ]
  },
  {
   "cell_type": "code",
   "execution_count": 17,
   "metadata": {},
   "outputs": [
    {
     "name": "stdout",
     "output_type": "stream",
     "text": [
      "+-----+--------+-----+-----+-----+--------------------+--------------------+-------------------+----------+\n",
      "|CLASS|SENSORID|    X|    Y|    Z|                 _id|                _rev|           features|prediction|\n",
      "+-----+--------+-----+-----+-----+--------------------+--------------------+-------------------+----------+\n",
      "|    0|bronsist| 0.42| 0.42| 0.42|3d6d1bfe7b2d5e286...|1-fd44d2472d5546a...|   [0.42,0.42,0.42]|         1|\n",
      "|    0|bronsist|-0.13|-0.13|-0.13|3d6d1bfe7b2d5e286...|1-3ba067a4dd6a5ec...|[-0.13,-0.13,-0.13]|         1|\n",
      "|    0|bronsist|-0.02|-0.02|-0.02|3d6d1bfe7b2d5e286...|1-a0cf67f39799ea2...|[-0.02,-0.02,-0.02]|         1|\n",
      "|    0|bronsist|  0.0|  0.0|  0.0|3d6d1bfe7b2d5e286...|1-bda6b817f4b289f...|          (3,[],[])|         1|\n",
      "|    0|bronsist|  0.0|  0.0|  0.0|3d6d1bfe7b2d5e286...|1-bda6b817f4b289f...|          (3,[],[])|         1|\n",
      "|    0|bronsist| 0.01| 0.01| 0.01|3d6d1bfe7b2d5e286...|1-47f59512a7fe600...|   [0.01,0.01,0.01]|         1|\n",
      "|    0|bronsist| 0.01| 0.01| 0.01|3d6d1bfe7b2d5e286...|1-47f59512a7fe600...|   [0.01,0.01,0.01]|         1|\n",
      "|    0|bronsist|-0.01|-0.01|-0.01|3d6d1bfe7b2d5e286...|1-4cf105a41e10f81...|[-0.01,-0.01,-0.01]|         1|\n",
      "|    0|bronsist|  0.0|  0.0|  0.0|3d6d1bfe7b2d5e286...|1-bda6b817f4b289f...|          (3,[],[])|         1|\n",
      "|    0|bronsist| 0.01| 0.01| 0.01|3d6d1bfe7b2d5e286...|1-47f59512a7fe600...|   [0.01,0.01,0.01]|         1|\n",
      "|    0|bronsist| 0.01| 0.01| 0.01|3d6d1bfe7b2d5e286...|1-47f59512a7fe600...|   [0.01,0.01,0.01]|         1|\n",
      "|    0|bronsist|  0.0|  0.0|  0.0|3d6d1bfe7b2d5e286...|1-bda6b817f4b289f...|          (3,[],[])|         1|\n",
      "|    0|bronsist|  0.0|  0.0|  0.0|3d6d1bfe7b2d5e286...|1-bda6b817f4b289f...|          (3,[],[])|         1|\n",
      "|    0|bronsist|  0.0|  0.0|  0.0|3d6d1bfe7b2d5e286...|1-bda6b817f4b289f...|          (3,[],[])|         1|\n",
      "|    0|bronsist|  0.0|  0.0|  0.0|3d6d1bfe7b2d5e286...|1-bda6b817f4b289f...|          (3,[],[])|         1|\n",
      "|    0|bronsist|  0.0|  0.0|  0.0|3d6d1bfe7b2d5e286...|1-bda6b817f4b289f...|          (3,[],[])|         1|\n",
      "|    0|bronsist|  0.0|  0.0|  0.0|3d6d1bfe7b2d5e286...|1-bda6b817f4b289f...|          (3,[],[])|         1|\n",
      "|    0|bronsist|  0.0|  0.0|  0.0|3d6d1bfe7b2d5e286...|1-bda6b817f4b289f...|          (3,[],[])|         1|\n",
      "|    0|bronsist|  0.0|  0.0|  0.0|3d6d1bfe7b2d5e286...|1-bda6b817f4b289f...|          (3,[],[])|         1|\n",
      "|    0|bronsist|  0.0|  0.0|  0.0|3d6d1bfe7b2d5e286...|1-bda6b817f4b289f...|          (3,[],[])|         1|\n",
      "+-----+--------+-----+-----+-----+--------------------+--------------------+-------------------+----------+\n",
      "only showing top 20 rows\n",
      "\n"
     ]
    }
   ],
   "source": [
    "prediction = model.transform(df)\n",
    "prediction.show()"
   ]
  },
  {
   "cell_type": "code",
   "execution_count": 18,
   "metadata": {},
   "outputs": [
    {
     "data": {
      "text/plain": [
       "0.6654373024236038"
      ]
     },
     "execution_count": 18,
     "metadata": {},
     "output_type": "execute_result"
    }
   ],
   "source": [
    "prediction.createOrReplaceTempView('prediction')\n",
    "spark.sql('''\n",
    "select max(correct)/max(total) as accuracy from (\n",
    "\n",
    "    select sum(correct) as correct, count(correct) as total from (\n",
    "        select case when class != prediction then 1 else 0 end as correct from prediction \n",
    "    ) \n",
    "    \n",
    "    union\n",
    "    \n",
    "    select sum(correct) as correct, count(correct) as total from (\n",
    "        select case when class = prediction then 1 else 0 end as correct from prediction \n",
    "    ) \n",
    ")\n",
    "''').rdd.map(lambda row: row.accuracy).collect()[0]"
   ]
  },
  {
   "cell_type": "markdown",
   "metadata": {},
   "source": [
    "If you reached at least 55% of accuracy you are fine to submit your predictions to the grader. Otherwise please experiment with parameters setting to your clustering algorithm, use a different algorithm or just re-record your data and try to obtain. In case you are stuck. Please note again – in a real-world scenario there is no way in doing this – since there is no class label in your data. Please have a look at this further reading on clustering performance evaluation https://en.wikipedia.org/wiki/Cluster_analysis#Evaluation_and_assessment\n"
   ]
  }
 ],
 "metadata": {
  "kernelspec": {
   "display_name": "Python 3",
   "language": "python",
   "name": "python3"
  },
  "language_info": {
   "codemirror_mode": {
    "name": "ipython",
    "version": 3
   },
   "file_extension": ".py",
   "mimetype": "text/x-python",
   "name": "python",
   "nbconvert_exporter": "python",
   "pygments_lexer": "ipython3",
   "version": "3.6.5"
  }
 },
 "nbformat": 4,
 "nbformat_minor": 1
}
